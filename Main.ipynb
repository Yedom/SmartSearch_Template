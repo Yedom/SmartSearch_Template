{
 "cells": [
  {
   "cell_type": "code",
   "execution_count": 17,
   "metadata": {},
   "outputs": [],
   "source": [
    "import psycopg2\n",
    "from psycopg2.extensions import ISOLATION_LEVEL_AUTOCOMMIT\n",
    "from psycopg2 import sql\n",
    "import pandas as pd\n",
    "from pyvis.network import Network\n",
    "from Levenshtein import distance\n",
    "from itertools import *\n",
    "import socket\n",
    "import jpysocket\n",
    "from threading import Thread\n",
    "from time import sleep\n",
    "\n",
    "pd.options.display.float_format = '{:12.3e}'.format"
   ]
  },
  {
   "cell_type": "markdown",
   "metadata": {},
   "source": [
    "# Recommendation system parameters"
   ]
  },
  {
   "cell_type": "code",
   "execution_count": 2,
   "metadata": {},
   "outputs": [],
   "source": [
    "max_related_tags = 5 #maximum number of edges of node in graph\n",
    "max_levenshtein_distance = 4 #maximum distance between two string tags to call them similar\n",
    "binary_search_check_radius = 5 #levenshtein distance radius check for best\n",
    "graph_recommendation_depth = 2 #recommendation depth\n",
    "graph_recommendation_weights = (10,3,1) #recommendation weights (graph_recommendation_depth + 1)\n",
    "graph_recommendation_weight_title = 10 #recommendation weight for title corresponding"
   ]
  },
  {
   "cell_type": "markdown",
   "metadata": {},
   "source": [
    "## Connect to postgresql database"
   ]
  },
  {
   "cell_type": "code",
   "execution_count": 3,
   "metadata": {},
   "outputs": [],
   "source": [
    "conn = psycopg2.connect(dbname='yedom', user='postgres', \n",
    "                        password='root', host='localhost')\n",
    "conn.set_isolation_level(ISOLATION_LEVEL_AUTOCOMMIT)\n",
    "cursor = conn.cursor()"
   ]
  },
  {
   "cell_type": "markdown",
   "metadata": {},
   "source": [
    "## Create 'coursers', 'tags' tables if not exist or clear if exist"
   ]
  },
  {
   "cell_type": "code",
   "execution_count": 4,
   "metadata": {},
   "outputs": [],
   "source": [
    "try:\n",
    "    cursor.execute(\n",
    "        '''CREATE TABLE coursers (\n",
    "                    id SERIAL PRIMARY KEY,\n",
    "                    title VARCHAR (255) NOT NULL,\n",
    "                    author VARCHAR (255) NOT NULL,\n",
    "                    views INTEGER NOT NULL,\n",
    "                    likes INTEGER NOT NULL,\n",
    "                    sponsors TEXT NOT NULL,\n",
    "                    tags TEXT NOT NULL\n",
    "        )''')\n",
    "except:\n",
    "    cursor.execute('TRUNCATE TABLE coursers RESTART IDENTITY CASCADE')\n",
    "    \n",
    "try:\n",
    "    cursor.execute(\n",
    "        '''CREATE TABLE tags (\n",
    "                    id SERIAL PRIMARY KEY,\n",
    "                    tag VARCHAR(255) UNIQUE NOT NULL,\n",
    "                    coursers_count INTEGER NOT NULL,\n",
    "                    related_tags TEXT\n",
    "        )''')\n",
    "except:\n",
    "    cursor.execute('TRUNCATE TABLE tags RESTART IDENTITY CASCADE')"
   ]
  },
  {
   "cell_type": "code",
   "execution_count": 5,
   "metadata": {},
   "outputs": [],
   "source": [
    "#'coursers' table\n",
    "\n",
    "def get_tags():\n",
    "    cursor.execute(\"\"\"SELECT tags FROM coursers\"\"\")\n",
    "    return [t for t, in cursor]\n",
    "\n",
    "def get_val_by_id_coursers(ID, val):\n",
    "    cursor.execute(\n",
    "            sql.SQL(\"\"\"SELECT {} FROM coursers WHERE id=%s\"\"\")\n",
    "                .format(sql.Identifier(val)), (int(ID),)\n",
    "        )\n",
    "    return cursor.fetchone()[0]"
   ]
  },
  {
   "cell_type": "code",
   "execution_count": 6,
   "metadata": {},
   "outputs": [],
   "source": [
    "#'tags' table\n",
    "\n",
    "def get_val_by_tag(tag, val):\n",
    "    cursor.execute(\n",
    "            sql.SQL(\"\"\"SELECT {} FROM tags WHERE tag=%s\"\"\")\n",
    "                .format(sql.Identifier(val)), (tag,)\n",
    "        )\n",
    "    return cursor.fetchone()[0]\n",
    "def get_val_by_id(ID, val):\n",
    "    cursor.execute(\n",
    "            sql.SQL(\"\"\"SELECT {} FROM tags WHERE id=%s\"\"\")\n",
    "                .format(sql.Identifier(val)), (int(ID),)\n",
    "        )\n",
    "    return cursor.fetchone()[0]\n",
    "def best_related_tags(unique_ids):\n",
    "    coursers_count = [get_val_by_id(ID, 'coursers_count') for ID in unique_ids]\n",
    "    pairs = list(zip(coursers_count, list(unique_ids)))\n",
    "    pairs.sort(reverse=True)\n",
    "    return set([pairs[i][1] for i in range(min(max_related_tags, len(pairs)))])\n",
    "def related_tags_push(tags):\n",
    "    ID_tags = [get_val_by_tag(tag, 'id') for tag in tags]\n",
    "    for ID in ID_tags:\n",
    "        unique_ids = set([])\n",
    "        related_tags = get_val_by_id(ID, 'related_tags')\n",
    "        if related_tags != '':\n",
    "            unique_ids = set(map(int, related_tags.split(',')))\n",
    "        unique_ids.update([int(id_tag) for id_tag in ID_tags if id_tag != ID])\n",
    "        unique_ids = best_related_tags(unique_ids)\n",
    "        \n",
    "        cursor.execute(\"\"\"UPDATE tags SET related_tags=%s WHERE id=%s\"\"\", \n",
    "                       (','.join(map(str, unique_ids)), ID,))\n",
    "def add_tag(tag):\n",
    "    try:\n",
    "        cursor.execute(\n",
    "            \"\"\"INSERT INTO tags (tag, coursers_count, related_tags) VALUES (%s, %s, %s)\"\"\", (tag, 1, '',))\n",
    "    except:\n",
    "        cursor.execute(\"\"\"UPDATE tags SET coursers_count=%s WHERE tag=%s\"\"\", \n",
    "                       (get_val_by_tag(tag, 'coursers_count')+1, tag,))\n",
    "        cursor.execute(\"\"\"SELECT setval('tags_id_seq', MAX(id), true) FROM tags\"\"\")"
   ]
  },
  {
   "cell_type": "markdown",
   "metadata": {},
   "source": [
    "## Insert rows from 'examples/*.csv' file to 'coursers' database"
   ]
  },
  {
   "cell_type": "code",
   "execution_count": 7,
   "metadata": {},
   "outputs": [
    {
     "data": {
      "text/html": [
       "<div>\n",
       "<style scoped>\n",
       "    .dataframe tbody tr th:only-of-type {\n",
       "        vertical-align: middle;\n",
       "    }\n",
       "\n",
       "    .dataframe tbody tr th {\n",
       "        vertical-align: top;\n",
       "    }\n",
       "\n",
       "    .dataframe thead th {\n",
       "        text-align: right;\n",
       "    }\n",
       "</style>\n",
       "<table border=\"1\" class=\"dataframe\">\n",
       "  <thead>\n",
       "    <tr style=\"text-align: right;\">\n",
       "      <th></th>\n",
       "      <th>title</th>\n",
       "      <th>author</th>\n",
       "      <th>views</th>\n",
       "      <th>likes</th>\n",
       "      <th>sponsors</th>\n",
       "      <th>tags</th>\n",
       "    </tr>\n",
       "  </thead>\n",
       "  <tbody>\n",
       "    <tr>\n",
       "      <th>0</th>\n",
       "      <td>Введение в теорию вероятностей</td>\n",
       "      <td>MrAlexeiMK</td>\n",
       "      <td>10</td>\n",
       "      <td>100</td>\n",
       "      <td>nan</td>\n",
       "      <td>теория вероятностей@математика@вероятности</td>\n",
       "    </tr>\n",
       "    <tr>\n",
       "      <th>1</th>\n",
       "      <td>Теория диффиренциальных исчислений</td>\n",
       "      <td>Tester</td>\n",
       "      <td>10</td>\n",
       "      <td>100</td>\n",
       "      <td>nan</td>\n",
       "      <td>дифферинциальные исчисления@математика@диффери...</td>\n",
       "    </tr>\n",
       "    <tr>\n",
       "      <th>2</th>\n",
       "      <td>Программирование на C#</td>\n",
       "      <td>Шарпер</td>\n",
       "      <td>10</td>\n",
       "      <td>100</td>\n",
       "      <td>nan</td>\n",
       "      <td>программирование@C#@Visual Studio 2022@Nugget@...</td>\n",
       "    </tr>\n",
       "    <tr>\n",
       "      <th>3</th>\n",
       "      <td>Программирование на Java</td>\n",
       "      <td>Джавист</td>\n",
       "      <td>10</td>\n",
       "      <td>100</td>\n",
       "      <td>nan</td>\n",
       "      <td>программирование@Java@Java 17@Intellij Idea 20...</td>\n",
       "    </tr>\n",
       "    <tr>\n",
       "      <th>4</th>\n",
       "      <td>Программирование на Python</td>\n",
       "      <td>Питонщик</td>\n",
       "      <td>10</td>\n",
       "      <td>100</td>\n",
       "      <td>nan</td>\n",
       "      <td>программирование@Python@Python 3@Jupyter Noteb...</td>\n",
       "    </tr>\n",
       "  </tbody>\n",
       "</table>\n",
       "</div>"
      ],
      "text/plain": [
       "                                title      author  views  likes     sponsors  \\\n",
       "0      Введение в теорию вероятностей  MrAlexeiMK     10    100          nan   \n",
       "1  Теория диффиренциальных исчислений      Tester     10    100          nan   \n",
       "2              Программирование на C#      Шарпер     10    100          nan   \n",
       "3            Программирование на Java     Джавист     10    100          nan   \n",
       "4          Программирование на Python    Питонщик     10    100          nan   \n",
       "\n",
       "                                                tags  \n",
       "0         теория вероятностей@математика@вероятности  \n",
       "1  дифферинциальные исчисления@математика@диффери...  \n",
       "2  программирование@C#@Visual Studio 2022@Nugget@...  \n",
       "3  программирование@Java@Java 17@Intellij Idea 20...  \n",
       "4  программирование@Python@Python 3@Jupyter Noteb...  "
      ]
     },
     "execution_count": 7,
     "metadata": {},
     "output_type": "execute_result"
    }
   ],
   "source": [
    "df = pd.read_csv('examples/coursers.csv')\n",
    "df.head()"
   ]
  },
  {
   "cell_type": "code",
   "execution_count": 8,
   "metadata": {
    "scrolled": true
   },
   "outputs": [],
   "source": [
    "for index, row in df.iterrows():\n",
    "    cursor.execute(\n",
    "        \"\"\"INSERT INTO coursers (title, author, views, likes, sponsors, tags) \n",
    "            VALUES (%s, %s, %s, %s, %s, %s)\"\"\", \n",
    "        (row['title'], row['author'], row['views'], row['likes'], row['sponsors'], row['tags']))"
   ]
  },
  {
   "cell_type": "markdown",
   "metadata": {},
   "source": [
    "## Update 'tags' database (everything below needs to be update in period)"
   ]
  },
  {
   "cell_type": "code",
   "execution_count": 9,
   "metadata": {},
   "outputs": [],
   "source": [
    "for row in get_tags():\n",
    "    tags = row.split('@')\n",
    "    for tag in tags:\n",
    "        add_tag(tag)\n",
    "    related_tags_push(tags)"
   ]
  },
  {
   "cell_type": "markdown",
   "metadata": {},
   "source": [
    "# Graph creation and visualization"
   ]
  },
  {
   "cell_type": "code",
   "execution_count": 10,
   "metadata": {},
   "outputs": [
    {
     "data": {
      "text/html": [
       "<div>\n",
       "<style scoped>\n",
       "    .dataframe tbody tr th:only-of-type {\n",
       "        vertical-align: middle;\n",
       "    }\n",
       "\n",
       "    .dataframe tbody tr th {\n",
       "        vertical-align: top;\n",
       "    }\n",
       "\n",
       "    .dataframe thead th {\n",
       "        text-align: right;\n",
       "    }\n",
       "</style>\n",
       "<table border=\"1\" class=\"dataframe\">\n",
       "  <thead>\n",
       "    <tr style=\"text-align: right;\">\n",
       "      <th></th>\n",
       "      <th>id</th>\n",
       "      <th>tag</th>\n",
       "      <th>coursers_count</th>\n",
       "      <th>related_tags</th>\n",
       "    </tr>\n",
       "  </thead>\n",
       "  <tbody>\n",
       "    <tr>\n",
       "      <th>0</th>\n",
       "      <td>1</td>\n",
       "      <td>теория вероятностей</td>\n",
       "      <td>1</td>\n",
       "      <td>2,3</td>\n",
       "    </tr>\n",
       "    <tr>\n",
       "      <th>1</th>\n",
       "      <td>2</td>\n",
       "      <td>математика</td>\n",
       "      <td>2</td>\n",
       "      <td>1,3,4,5</td>\n",
       "    </tr>\n",
       "    <tr>\n",
       "      <th>2</th>\n",
       "      <td>3</td>\n",
       "      <td>вероятности</td>\n",
       "      <td>1</td>\n",
       "      <td>1,2</td>\n",
       "    </tr>\n",
       "    <tr>\n",
       "      <th>3</th>\n",
       "      <td>4</td>\n",
       "      <td>дифферинциальные исчисления</td>\n",
       "      <td>1</td>\n",
       "      <td>2,5</td>\n",
       "    </tr>\n",
       "    <tr>\n",
       "      <th>4</th>\n",
       "      <td>5</td>\n",
       "      <td>дифферинциальные уравнения</td>\n",
       "      <td>1</td>\n",
       "      <td>2,4</td>\n",
       "    </tr>\n",
       "  </tbody>\n",
       "</table>\n",
       "</div>"
      ],
      "text/plain": [
       "   id                          tag  coursers_count related_tags\n",
       "0   1          теория вероятностей               1          2,3\n",
       "1   2                   математика               2      1,3,4,5\n",
       "2   3                  вероятности               1          1,2\n",
       "3   4  дифферинциальные исчисления               1          2,5\n",
       "4   5   дифферинциальные уравнения               1          2,4"
      ]
     },
     "execution_count": 10,
     "metadata": {},
     "output_type": "execute_result"
    }
   ],
   "source": [
    "df_tags = pd.read_sql_query(\"SELECT * from tags ORDER BY id\", con=conn)\n",
    "df_tags.head()"
   ]
  },
  {
   "cell_type": "code",
   "execution_count": 11,
   "metadata": {},
   "outputs": [
    {
     "data": {
      "text/html": [
       "<div>\n",
       "<style scoped>\n",
       "    .dataframe tbody tr th:only-of-type {\n",
       "        vertical-align: middle;\n",
       "    }\n",
       "\n",
       "    .dataframe tbody tr th {\n",
       "        vertical-align: top;\n",
       "    }\n",
       "\n",
       "    .dataframe thead th {\n",
       "        text-align: right;\n",
       "    }\n",
       "</style>\n",
       "<table border=\"1\" class=\"dataframe\">\n",
       "  <thead>\n",
       "    <tr style=\"text-align: right;\">\n",
       "      <th></th>\n",
       "      <th>id</th>\n",
       "      <th>title</th>\n",
       "      <th>author</th>\n",
       "      <th>views</th>\n",
       "      <th>likes</th>\n",
       "      <th>sponsors</th>\n",
       "      <th>tags</th>\n",
       "    </tr>\n",
       "  </thead>\n",
       "  <tbody>\n",
       "    <tr>\n",
       "      <th>0</th>\n",
       "      <td>1</td>\n",
       "      <td>Введение в теорию вероятностей</td>\n",
       "      <td>MrAlexeiMK</td>\n",
       "      <td>10</td>\n",
       "      <td>100</td>\n",
       "      <td>NaN</td>\n",
       "      <td>теория вероятностей@математика@вероятности</td>\n",
       "    </tr>\n",
       "    <tr>\n",
       "      <th>1</th>\n",
       "      <td>2</td>\n",
       "      <td>Теория диффиренциальных исчислений</td>\n",
       "      <td>Tester</td>\n",
       "      <td>10</td>\n",
       "      <td>100</td>\n",
       "      <td>NaN</td>\n",
       "      <td>дифферинциальные исчисления@математика@диффери...</td>\n",
       "    </tr>\n",
       "    <tr>\n",
       "      <th>2</th>\n",
       "      <td>3</td>\n",
       "      <td>Программирование на C#</td>\n",
       "      <td>Шарпер</td>\n",
       "      <td>10</td>\n",
       "      <td>100</td>\n",
       "      <td>NaN</td>\n",
       "      <td>программирование@C#@Visual Studio 2022@Nugget@...</td>\n",
       "    </tr>\n",
       "    <tr>\n",
       "      <th>3</th>\n",
       "      <td>4</td>\n",
       "      <td>Программирование на Java</td>\n",
       "      <td>Джавист</td>\n",
       "      <td>10</td>\n",
       "      <td>100</td>\n",
       "      <td>NaN</td>\n",
       "      <td>программирование@Java@Java 17@Intellij Idea 20...</td>\n",
       "    </tr>\n",
       "    <tr>\n",
       "      <th>4</th>\n",
       "      <td>5</td>\n",
       "      <td>Программирование на Python</td>\n",
       "      <td>Питонщик</td>\n",
       "      <td>10</td>\n",
       "      <td>100</td>\n",
       "      <td>NaN</td>\n",
       "      <td>программирование@Python@Python 3@Jupyter Noteb...</td>\n",
       "    </tr>\n",
       "  </tbody>\n",
       "</table>\n",
       "</div>"
      ],
      "text/plain": [
       "   id                               title      author  views  likes sponsors  \\\n",
       "0   1      Введение в теорию вероятностей  MrAlexeiMK     10    100      NaN   \n",
       "1   2  Теория диффиренциальных исчислений      Tester     10    100      NaN   \n",
       "2   3              Программирование на C#      Шарпер     10    100      NaN   \n",
       "3   4            Программирование на Java     Джавист     10    100      NaN   \n",
       "4   5          Программирование на Python    Питонщик     10    100      NaN   \n",
       "\n",
       "                                                tags  \n",
       "0         теория вероятностей@математика@вероятности  \n",
       "1  дифферинциальные исчисления@математика@диффери...  \n",
       "2  программирование@C#@Visual Studio 2022@Nugget@...  \n",
       "3  программирование@Java@Java 17@Intellij Idea 20...  \n",
       "4  программирование@Python@Python 3@Jupyter Noteb...  "
      ]
     },
     "execution_count": 11,
     "metadata": {},
     "output_type": "execute_result"
    }
   ],
   "source": [
    "df_coursers = pd.read_sql_query(\"SELECT * from coursers ORDER BY id\", con=conn)\n",
    "df_coursers.head()"
   ]
  },
  {
   "cell_type": "code",
   "execution_count": 12,
   "metadata": {},
   "outputs": [],
   "source": [
    "id_by_tag = list(zip(df_tags.tag,df_tags.id))\n",
    "id_by_tag.sort(key=lambda t: t[0].lower())"
   ]
  },
  {
   "cell_type": "code",
   "execution_count": 13,
   "metadata": {
    "scrolled": false
   },
   "outputs": [
    {
     "name": "stdout",
     "output_type": "stream",
     "text": [
      "Local cdn resources have problems on chrome/safari when used in jupyter-notebook. \n"
     ]
    },
    {
     "data": {
      "text/html": [
       "\n",
       "        <iframe\n",
       "            width=\"100%\"\n",
       "            height=\"600px\"\n",
       "            src=\"graph.html\"\n",
       "            frameborder=\"0\"\n",
       "            allowfullscreen\n",
       "        ></iframe>\n",
       "        "
      ],
      "text/plain": [
       "<IPython.lib.display.IFrame at 0x1f720a64220>"
      ]
     },
     "execution_count": 13,
     "metadata": {},
     "output_type": "execute_result"
    }
   ],
   "source": [
    "G = Network(notebook=True, directed=True)\n",
    "G.repulsion()\n",
    "\n",
    "maxID = 1 #restrictive line between 'tags' and 'coursers'\n",
    "\n",
    "#add nodes\n",
    "for index, row in df_tags.iterrows():\n",
    "    maxID = max(maxID, row['id'])\n",
    "    G.add_node(row['id'], label=row['tag'])\n",
    "for index, row in df_coursers.iterrows():\n",
    "    G.add_node(maxID + row['id'], label=row['title'] + \" (\" + row['author'] + \")\", color='green')\n",
    "\n",
    "#add edges\n",
    "for index, row in df_tags.iterrows():\n",
    "    tags = row['related_tags'].split(',')\n",
    "    for tag in tags:\n",
    "        G.add_edge(row['id'], int(tag))\n",
    "for index, row in df_coursers.iterrows():\n",
    "    tags = row['tags'].split('@')\n",
    "    for tag in tags:\n",
    "        fr = int(get_val_by_tag(tag, 'id'))\n",
    "        to = maxID + row['id']\n",
    "        G.add_edge(fr, to)\n",
    "\n",
    "G.show('graph.html')"
   ]
  },
  {
   "cell_type": "markdown",
   "metadata": {},
   "source": [
    "**Используемая для хранения графа память**\n",
    "\n",
    "Используемая для хранения графа память равна $O(V+E) = O((tagsCount + coursersCount) + (tagsCount + coursersCount)*(maxRelatedTags + coursersCount))$"
   ]
  },
  {
   "cell_type": "code",
   "execution_count": 14,
   "metadata": {},
   "outputs": [
    {
     "name": "stdout",
     "output_type": "stream",
     "text": [
      "maxRelatedTags = 5\n"
     ]
    },
    {
     "data": {
      "text/html": [
       "<div>\n",
       "<style scoped>\n",
       "    .dataframe tbody tr th:only-of-type {\n",
       "        vertical-align: middle;\n",
       "    }\n",
       "\n",
       "    .dataframe tbody tr th {\n",
       "        vertical-align: top;\n",
       "    }\n",
       "\n",
       "    .dataframe thead th {\n",
       "        text-align: right;\n",
       "    }\n",
       "</style>\n",
       "<table border=\"1\" class=\"dataframe\">\n",
       "  <thead>\n",
       "    <tr style=\"text-align: right;\">\n",
       "      <th></th>\n",
       "      <th>coursersCount</th>\n",
       "      <th>tagsCount</th>\n",
       "      <th>averageCoursersOnTag</th>\n",
       "      <th>Memory</th>\n",
       "    </tr>\n",
       "  </thead>\n",
       "  <tbody>\n",
       "    <tr>\n",
       "      <th>0</th>\n",
       "      <td>1.000e+03</td>\n",
       "      <td>2.000e+04</td>\n",
       "      <td>20</td>\n",
       "      <td>5.460e+05</td>\n",
       "    </tr>\n",
       "    <tr>\n",
       "      <th>1</th>\n",
       "      <td>2.000e+03</td>\n",
       "      <td>6.000e+04</td>\n",
       "      <td>30</td>\n",
       "      <td>2.232e+06</td>\n",
       "    </tr>\n",
       "    <tr>\n",
       "      <th>2</th>\n",
       "      <td>5.000e+03</td>\n",
       "      <td>2.000e+05</td>\n",
       "      <td>40</td>\n",
       "      <td>9.430e+06</td>\n",
       "    </tr>\n",
       "    <tr>\n",
       "      <th>3</th>\n",
       "      <td>1.000e+04</td>\n",
       "      <td>5.000e+05</td>\n",
       "      <td>50</td>\n",
       "      <td>2.856e+07</td>\n",
       "    </tr>\n",
       "    <tr>\n",
       "      <th>4</th>\n",
       "      <td>5.000e+04</td>\n",
       "      <td>3.000e+06</td>\n",
       "      <td>60</td>\n",
       "      <td>2.013e+08</td>\n",
       "    </tr>\n",
       "    <tr>\n",
       "      <th>5</th>\n",
       "      <td>2.000e+05</td>\n",
       "      <td>1.400e+07</td>\n",
       "      <td>70</td>\n",
       "      <td>1.079e+09</td>\n",
       "    </tr>\n",
       "    <tr>\n",
       "      <th>6</th>\n",
       "      <td>5.000e+05</td>\n",
       "      <td>4.000e+07</td>\n",
       "      <td>80</td>\n",
       "      <td>3.483e+09</td>\n",
       "    </tr>\n",
       "    <tr>\n",
       "      <th>7</th>\n",
       "      <td>1.000e+06</td>\n",
       "      <td>9.000e+07</td>\n",
       "      <td>90</td>\n",
       "      <td>8.736e+09</td>\n",
       "    </tr>\n",
       "  </tbody>\n",
       "</table>\n",
       "</div>"
      ],
      "text/plain": [
       "   coursersCount    tagsCount  averageCoursersOnTag       Memory\n",
       "0      1.000e+03    2.000e+04                    20    5.460e+05\n",
       "1      2.000e+03    6.000e+04                    30    2.232e+06\n",
       "2      5.000e+03    2.000e+05                    40    9.430e+06\n",
       "3      1.000e+04    5.000e+05                    50    2.856e+07\n",
       "4      5.000e+04    3.000e+06                    60    2.013e+08\n",
       "5      2.000e+05    1.400e+07                    70    1.079e+09\n",
       "6      5.000e+05    4.000e+07                    80    3.483e+09\n",
       "7      1.000e+06    9.000e+07                    90    8.736e+09"
      ]
     },
     "execution_count": 14,
     "metadata": {},
     "output_type": "execute_result"
    }
   ],
   "source": [
    "cc = [1000, 2000, 5000, 1e4, 5e4, 2e5, 5e5, 1e6]\n",
    "tc = [(20 + 10*i)*cc[i] for i in range(len(cc))]\n",
    "av = [int(tc[i]//cc[i]) for i in range(len(cc))]\n",
    "\n",
    "res = [tc[i] + cc[i] + (tc[i] + cc[i]) * (max_related_tags + av[i]) for i in range(len(cc))]\n",
    "frame = pd.DataFrame({'coursersCount': cc, 'tagsCount': tc, 'averageCoursersOnTag': av, 'Memory': res})\n",
    "print(\"maxRelatedTags =\", max_related_tags)\n",
    "frame.to_html(open('memoryInfo.html', 'w'))\n",
    "frame.head(10)"
   ]
  },
  {
   "cell_type": "markdown",
   "metadata": {},
   "source": [
    "# Recommendation system on user input from graph"
   ]
  },
  {
   "cell_type": "code",
   "execution_count": 15,
   "metadata": {},
   "outputs": [],
   "source": [
    "def input_processing(s):\n",
    "    s = ' '.join(s.split())\n",
    "    return s\n",
    "\n",
    "def distance_tags(tag1, tag2):\n",
    "    return distance(tag1, tag2, weights=(1,1,2))\n",
    "\n",
    "#O(N + N*(N-1) + N*(N-1)*(N-2))\n",
    "def splitter(s, maxLen = 3, debug=False):\n",
    "    arr = s.split(' ')\n",
    "    N = len(arr)\n",
    "    tags = []\n",
    "    for k in range(1, maxLen+1):\n",
    "        for p in permutations(arr, k):\n",
    "            tag = ' '.join(p)\n",
    "            bs = binary_search(tag, debug)\n",
    "            if bs[0] <= max_levenshtein_distance:\n",
    "                tags.append(bs)\n",
    "    tags.sort()\n",
    "    if debug:\n",
    "        print(tags)\n",
    "    return set([t[1] for t in tags])\n",
    "\n",
    "#O(log(len(id_by_tag)))\n",
    "def binary_search(tag, debug=False):\n",
    "    l = 0\n",
    "    r = len(id_by_tag)\n",
    "    if debug:\n",
    "        print(tag+\":\")\n",
    "    while r - l > 1:\n",
    "        mid = (l+r)//2\n",
    "        if debug:\n",
    "            print(str(\"    \"), id_by_tag[mid][0])\n",
    "        if id_by_tag[mid][0].lower() > tag.lower():\n",
    "            r = mid\n",
    "        else:\n",
    "            l = mid\n",
    "    M = l\n",
    "    minDis = distance_tags(tag, id_by_tag[l][0])\n",
    "    \n",
    "    for m in range(max(0, l-binary_search_check_radius), min(len(id_by_tag), l+binary_search_check_radius+1)):\n",
    "        dis = distance_tags(tag, id_by_tag[m][0])\n",
    "        if dis < minDis:\n",
    "            minDis = dis\n",
    "            M = m\n",
    "    if debug:\n",
    "        print(str(\"  * \"), id_by_tag[M][0], minDis)\n",
    "    return (minDis, id_by_tag[M][1])"
   ]
  },
  {
   "cell_type": "markdown",
   "metadata": {},
   "source": [
    "## Getting closest tags"
   ]
  },
  {
   "cell_type": "code",
   "execution_count": 16,
   "metadata": {},
   "outputs": [
    {
     "name": "stdout",
     "output_type": "stream",
     "text": [
      "python\n",
      "Closest tags (ids): [[19]]\n"
     ]
    }
   ],
   "source": [
    "s = input()\n",
    "s = input_processing(s)\n",
    "\n",
    "IDS = [list(splitter(s, debug=False))]\n",
    "print(\"Closest tags (ids):\", IDS)"
   ]
  },
  {
   "cell_type": "markdown",
   "metadata": {},
   "source": [
    "## Add additional tags into 'IDS' from graph"
   ]
  },
  {
   "cell_type": "code",
   "execution_count": 17,
   "metadata": {},
   "outputs": [
    {
     "name": "stdout",
     "output_type": "stream",
     "text": [
      "[[19], [6, 20, 21, 23, 24], [10, 58, 43, 44, 45, 78]]\n",
      "[['Python'], ['программирование', 'Python 3', 'Jupyter Notebook', 'numpy', 'pandas'], ['для новичков', 'алгоритмы', 'open-source', 'Contributing', 'fork', 'графики']]\n"
     ]
    }
   ],
   "source": [
    "uniques = set(IDS[0])\n",
    "\n",
    "for i in range(graph_recommendation_depth):\n",
    "    depth_ids = []\n",
    "    for node in set(IDS[i]):\n",
    "        for to in G.neighbors(node):\n",
    "            if to <= maxID:\n",
    "                if to not in uniques:\n",
    "                    depth_ids.append(to)\n",
    "                    uniques.add(to)\n",
    "    IDS.append(depth_ids)\n",
    "print(IDS)\n",
    "print([[get_val_by_id(ID, 'tag') for ID in d_ids ] for d_ids in IDS])"
   ]
  },
  {
   "cell_type": "markdown",
   "metadata": {},
   "source": [
    "## Recommend coursers by graph"
   ]
  },
  {
   "cell_type": "code",
   "execution_count": 16,
   "metadata": {},
   "outputs": [
    {
     "ename": "NameError",
     "evalue": "name 's' is not defined",
     "output_type": "error",
     "traceback": [
      "\u001b[1;31m---------------------------------------------------------------------------\u001b[0m",
      "\u001b[1;31mNameError\u001b[0m                                 Traceback (most recent call last)",
      "\u001b[1;32m<ipython-input-16-5245e742cb2b>\u001b[0m in \u001b[0;36m<module>\u001b[1;34m\u001b[0m\n\u001b[0;32m      1\u001b[0m \u001b[0mcDict\u001b[0m \u001b[1;33m=\u001b[0m \u001b[0mdict\u001b[0m\u001b[1;33m(\u001b[0m\u001b[1;33m)\u001b[0m\u001b[1;33m\u001b[0m\u001b[1;33m\u001b[0m\u001b[0m\n\u001b[1;32m----> 2\u001b[1;33m \u001b[0mspl\u001b[0m \u001b[1;33m=\u001b[0m \u001b[0mlist\u001b[0m\u001b[1;33m(\u001b[0m\u001b[0mmap\u001b[0m\u001b[1;33m(\u001b[0m\u001b[0mstr\u001b[0m\u001b[1;33m.\u001b[0m\u001b[0mlower\u001b[0m\u001b[1;33m,\u001b[0m \u001b[0ms\u001b[0m\u001b[1;33m.\u001b[0m\u001b[0msplit\u001b[0m\u001b[1;33m(\u001b[0m\u001b[1;34m' '\u001b[0m\u001b[1;33m)\u001b[0m\u001b[1;33m)\u001b[0m\u001b[1;33m)\u001b[0m\u001b[1;33m\u001b[0m\u001b[1;33m\u001b[0m\u001b[0m\n\u001b[0m\u001b[0;32m      3\u001b[0m \u001b[1;33m\u001b[0m\u001b[0m\n\u001b[0;32m      4\u001b[0m \u001b[1;31m#tags weight\u001b[0m\u001b[1;33m\u001b[0m\u001b[1;33m\u001b[0m\u001b[1;33m\u001b[0m\u001b[0m\n\u001b[0;32m      5\u001b[0m \u001b[1;32mfor\u001b[0m \u001b[0mi\u001b[0m \u001b[1;32min\u001b[0m \u001b[0mrange\u001b[0m\u001b[1;33m(\u001b[0m\u001b[0mlen\u001b[0m\u001b[1;33m(\u001b[0m\u001b[0mIDS\u001b[0m\u001b[1;33m)\u001b[0m\u001b[1;33m)\u001b[0m\u001b[1;33m:\u001b[0m\u001b[1;33m\u001b[0m\u001b[1;33m\u001b[0m\u001b[0m\n",
      "\u001b[1;31mNameError\u001b[0m: name 's' is not defined"
     ]
    }
   ],
   "source": [
    "cDict = dict()\n",
    "spl = list(map(str.lower, s.split(' ')))\n",
    "\n",
    "#tags weight\n",
    "for i in range(len(IDS)):\n",
    "    d_ids = IDS[i]\n",
    "    weight = graph_recommendation_weights[i] #course recommendation weight\n",
    "    for node in d_ids:\n",
    "        for to in G.neighbors(node):\n",
    "            if to > maxID:\n",
    "                ID = to - maxID #course ID\n",
    "                \n",
    "                try:\n",
    "                    cDict[ID] += weight\n",
    "                except:\n",
    "                    cDict[ID] = weight\n",
    "\n",
    "#title weight\n",
    "for ID in cDict:\n",
    "    title = get_val_by_id_coursers(ID, 'title').lower()\n",
    "    for word in spl:\n",
    "        if word in title:\n",
    "            cDict[ID] += graph_recommendation_weight_title\n",
    "\n",
    "#result\n",
    "weights_pairs = [(cDict[key], key) for key in cDict]\n",
    "weights_pairs.sort(reverse=True)\n",
    "\n",
    "response = [t[1] for t in weights_pairs]\n",
    "print(weights_pairs)\n",
    "print(response)\n",
    "\n",
    "print()\n",
    "print('Рекомендуем курсы:')\n",
    "print(\"    \", [get_val_by_id_coursers(ID, 'title') for ID in response])"
   ]
  },
  {
   "cell_type": "markdown",
   "metadata": {},
   "source": [
    "# Python WebSocket server"
   ]
  },
  {
   "cell_type": "code",
   "execution_count": 16,
   "metadata": {},
   "outputs": [],
   "source": [
    "def recommend_courses(inputStr):\n",
    "    inputStr = input_processing(inputStr)\n",
    "    \n",
    "    #extract tags from processed inputStr\n",
    "    IDS = [list(splitter(inputStr, debug=False))]\n",
    "    \n",
    "    #add additional tags from graph\n",
    "    uniques = set(IDS[0])\n",
    "\n",
    "    for i in range(graph_recommendation_depth):\n",
    "        depth_ids = []\n",
    "        for node in set(IDS[i]):\n",
    "            for to in G.neighbors(node):\n",
    "                if to <= maxID:\n",
    "                    if to not in uniques:\n",
    "                        depth_ids.append(to)\n",
    "                        uniques.add(to)\n",
    "        IDS.append(depth_ids)\n",
    "    \n",
    "    cDict = dict()\n",
    "    spl = list(map(str.lower, inputStr.split(' ')))\n",
    "    \n",
    "    #tags weight\n",
    "    for i in range(len(IDS)):\n",
    "        d_ids = IDS[i]\n",
    "        weight = graph_recommendation_weights[i] #course recommendation weight\n",
    "        for node in d_ids:\n",
    "            for to in G.neighbors(node):\n",
    "                if to > maxID:\n",
    "                    ID = to - maxID #course ID\n",
    "                    \n",
    "                    try:\n",
    "                        cDict[ID] += weight\n",
    "                    except:\n",
    "                        cDict[ID] = weight\n",
    "\n",
    "    #title weight\n",
    "    for ID in cDict:\n",
    "        title = get_val_by_id_coursers(ID, 'title').lower()\n",
    "        for word in spl:\n",
    "            if word in title:\n",
    "                cDict[ID] += graph_recommendation_weight_title\n",
    "\n",
    "    #result\n",
    "    weights_pairs = [(cDict[key], key) for key in cDict]\n",
    "    weights_pairs.sort(reverse=True)\n",
    "\n",
    "    response = [t[1] for t in weights_pairs]\n",
    "    \n",
    "    return response"
   ]
  },
  {
   "cell_type": "code",
   "execution_count": null,
   "metadata": {},
   "outputs": [
    {
     "name": "stdout",
     "output_type": "stream",
     "text": [
      "User connected: ('127.0.0.1', 19236)\n",
      "Message: python\n",
      "[5, 14, 6, 9, 13, 8, 3, 4, 12, 11]\n",
      "b'\\x00\\x175,14,6,9,13,8,3,4,12,11'\n",
      "User connected: ('127.0.0.1', 19242)\n",
      "Message: нейронные сети\n",
      "[6, 5, 14, 9, 13, 8, 3, 4, 12, 11]\n",
      "b'\\x00\\x176,5,14,9,13,8,3,4,12,11'\n",
      "User connected: ('127.0.0.1', 19246)\n",
      "Message: алгоритмы\n",
      "[13, 12, 5, 4, 14, 6, 8, 3, 9, 11]\n",
      "b'\\x00\\x1713,12,5,4,14,6,8,3,9,11'\n",
      "User connected: ('127.0.0.1', 1048)\n",
      "Message: саша лох\n",
      "[]\n",
      "b'\\x00\\x00'\n"
     ]
    }
   ],
   "source": [
    "soc = socket.socket(socket.AF_INET, socket.SOCK_STREAM)\n",
    "host = \"localhost\"\n",
    "port = 2003\n",
    "soc.bind((host, port))\n",
    "soc.listen(10)\n",
    "\n",
    "try:\n",
    "    while True:\n",
    "        conn, addr = soc.accept()\n",
    "        \n",
    "        print(\"User connected:\", addr)\n",
    "        msg = jpysocket.jpydecode(conn.recv(1024))\n",
    "        print(\"Message:\", msg)\n",
    "        IDS = recommend_courses(msg)\n",
    "        print(IDS)\n",
    "        response = jpysocket.jpyencode(','.join(map(str, IDS)))\n",
    "        print(response)\n",
    "        conn.send(response)\n",
    "        \n",
    "        conn.close()\n",
    "except KeyboardInterrupt:\n",
    "    pass"
   ]
  },
  {
   "cell_type": "code",
   "execution_count": null,
   "metadata": {},
   "outputs": [],
   "source": []
  }
 ],
 "metadata": {
  "kernelspec": {
   "display_name": "Python 3.8.2 64-bit",
   "language": "python",
   "name": "python3"
  },
  "language_info": {
   "codemirror_mode": {
    "name": "ipython",
    "version": 3
   },
   "file_extension": ".py",
   "mimetype": "text/x-python",
   "name": "python",
   "nbconvert_exporter": "python",
   "pygments_lexer": "ipython3",
   "version": "3.8.2"
  },
  "latex_envs": {
   "LaTeX_envs_menu_present": true,
   "autoclose": false,
   "autocomplete": true,
   "bibliofile": "biblio.bib",
   "cite_by": "apalike",
   "current_citInitial": 1,
   "eqLabelWithNumbers": true,
   "eqNumInitial": 1,
   "hotkeys": {
    "equation": "Ctrl-E",
    "itemize": "Ctrl-I"
   },
   "labels_anchors": false,
   "latex_user_defs": false,
   "report_style_numbering": false,
   "user_envs_cfg": false
  },
  "vscode": {
   "interpreter": {
    "hash": "efa87d963ca3bf582008cd42d6cdf0f1a448ed69908c7beaf14525385f8a4de7"
   }
  }
 },
 "nbformat": 4,
 "nbformat_minor": 4
}
